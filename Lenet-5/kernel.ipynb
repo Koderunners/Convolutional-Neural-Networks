{
  "cells": [
    {
      "metadata": {
        "_uuid": "6105f582124048893f21a2f6d372c5c4d2462386"
      },
      "cell_type": "markdown",
      "source": "# LeNet-5 Architecture "
    },
    {
      "metadata": {
        "_uuid": "2e1a158a8d8ecd48b76fb77efc02262d557bcd70"
      },
      "cell_type": "markdown",
      "source": "Convolutional Neural Networks are are a special kind of multi-layer neural networks. Like almost every other neural networks they are trained with a version of the back-propagation algorithm. Where they differ is in the architecture.   \nConvolutional Neural Networks are designed to recognize visual patterns directly from pixel images with minimal preprocessing.  \nThey can recognize patterns with extreme variability (such as handwritten characters), and with robustness to distortions and simple geometric transformations.  \n\n\n##### <span style=\"color:orange\">LeNet-5</span>  is a  convolutional network designed by  <span style=\"color:orange\">Yann LeCun</span>  for handwritten and machine-printed character recognition.  "
    },
    {
      "metadata": {
        "_uuid": "56835c870b390f4e5701a8cee87ad2ab0495cc82"
      },
      "cell_type": "markdown",
      "source": "![Imgur](https://i.imgur.com/VDOzp4t.jpg)"
    },
    {
      "metadata": {
        "_uuid": "24848ea1689af8376fadd090c0bd74a2f74768f0"
      },
      "cell_type": "markdown",
      "source": "## Importing Libraries"
    },
    {
      "metadata": {
        "trusted": true,
        "_uuid": "70b72e8a9673a3d866280ebef0f6e2afcb4275ec"
      },
      "cell_type": "code",
      "source": "import warnings\nwarnings.filterwarnings('ignore')",
      "execution_count": 1,
      "outputs": []
    },
    {
      "metadata": {
        "trusted": true,
        "_uuid": "c5aa49f57afbd22daa29d6c821b4a26acee8f4d4"
      },
      "cell_type": "code",
      "source": "import numpy as np\nimport pandas as pd\nimport tensorflow as tf\nimport matplotlib.pyplot as plt\nimport seaborn as sns\nsns.set()",
      "execution_count": 2,
      "outputs": []
    },
    {
      "metadata": {
        "_uuid": "6a802a476e7ecbd97eedcd54b372994bbbab307f"
      },
      "cell_type": "markdown",
      "source": "## Read dataset"
    },
    {
      "metadata": {
        "trusted": true,
        "_uuid": "b879ade93d31103bc79b6ba9537b80ddfa779691"
      },
      "cell_type": "code",
      "source": "import os\nprint(os.listdir(\"../input\"))",
      "execution_count": 3,
      "outputs": [
        {
          "output_type": "stream",
          "text": "['train.csv', 'sample_submission.csv', 'test.csv']\n",
          "name": "stdout"
        }
      ]
    },
    {
      "metadata": {
        "trusted": true,
        "_uuid": "00428f1e2953097e8bf42fc839c0162e5b6c55a6"
      },
      "cell_type": "code",
      "source": "train = pd.read_csv('../input/train.csv')",
      "execution_count": 4,
      "outputs": []
    },
    {
      "metadata": {
        "trusted": true,
        "_uuid": "eb5a33bfe9ca274b8888f70f2e1c3125890241f9"
      },
      "cell_type": "code",
      "source": "train.head()",
      "execution_count": 5,
      "outputs": [
        {
          "output_type": "execute_result",
          "execution_count": 5,
          "data": {
            "text/plain": "   label  pixel0  pixel1    ...     pixel781  pixel782  pixel783\n0      1       0       0    ...            0         0         0\n1      0       0       0    ...            0         0         0\n2      1       0       0    ...            0         0         0\n3      4       0       0    ...            0         0         0\n4      0       0       0    ...            0         0         0\n\n[5 rows x 785 columns]",
            "text/html": "<div>\n<style scoped>\n    .dataframe tbody tr th:only-of-type {\n        vertical-align: middle;\n    }\n\n    .dataframe tbody tr th {\n        vertical-align: top;\n    }\n\n    .dataframe thead th {\n        text-align: right;\n    }\n</style>\n<table border=\"1\" class=\"dataframe\">\n  <thead>\n    <tr style=\"text-align: right;\">\n      <th></th>\n      <th>label</th>\n      <th>pixel0</th>\n      <th>pixel1</th>\n      <th>pixel2</th>\n      <th>pixel3</th>\n      <th>pixel4</th>\n      <th>pixel5</th>\n      <th>pixel6</th>\n      <th>pixel7</th>\n      <th>pixel8</th>\n      <th>pixel9</th>\n      <th>pixel10</th>\n      <th>pixel11</th>\n      <th>pixel12</th>\n      <th>pixel13</th>\n      <th>pixel14</th>\n      <th>pixel15</th>\n      <th>pixel16</th>\n      <th>pixel17</th>\n      <th>pixel18</th>\n      <th>pixel19</th>\n      <th>pixel20</th>\n      <th>pixel21</th>\n      <th>pixel22</th>\n      <th>pixel23</th>\n      <th>pixel24</th>\n      <th>pixel25</th>\n      <th>pixel26</th>\n      <th>pixel27</th>\n      <th>pixel28</th>\n      <th>pixel29</th>\n      <th>pixel30</th>\n      <th>pixel31</th>\n      <th>pixel32</th>\n      <th>pixel33</th>\n      <th>pixel34</th>\n      <th>pixel35</th>\n      <th>pixel36</th>\n      <th>pixel37</th>\n      <th>pixel38</th>\n      <th>...</th>\n      <th>pixel744</th>\n      <th>pixel745</th>\n      <th>pixel746</th>\n      <th>pixel747</th>\n      <th>pixel748</th>\n      <th>pixel749</th>\n      <th>pixel750</th>\n      <th>pixel751</th>\n      <th>pixel752</th>\n      <th>pixel753</th>\n      <th>pixel754</th>\n      <th>pixel755</th>\n      <th>pixel756</th>\n      <th>pixel757</th>\n      <th>pixel758</th>\n      <th>pixel759</th>\n      <th>pixel760</th>\n      <th>pixel761</th>\n      <th>pixel762</th>\n      <th>pixel763</th>\n      <th>pixel764</th>\n      <th>pixel765</th>\n      <th>pixel766</th>\n      <th>pixel767</th>\n      <th>pixel768</th>\n      <th>pixel769</th>\n      <th>pixel770</th>\n      <th>pixel771</th>\n      <th>pixel772</th>\n      <th>pixel773</th>\n      <th>pixel774</th>\n      <th>pixel775</th>\n      <th>pixel776</th>\n      <th>pixel777</th>\n      <th>pixel778</th>\n      <th>pixel779</th>\n      <th>pixel780</th>\n      <th>pixel781</th>\n      <th>pixel782</th>\n      <th>pixel783</th>\n    </tr>\n  </thead>\n  <tbody>\n    <tr>\n      <th>0</th>\n      <td>1</td>\n      <td>0</td>\n      <td>0</td>\n      <td>0</td>\n      <td>0</td>\n      <td>0</td>\n      <td>0</td>\n      <td>0</td>\n      <td>0</td>\n      <td>0</td>\n      <td>0</td>\n      <td>0</td>\n      <td>0</td>\n      <td>0</td>\n      <td>0</td>\n      <td>0</td>\n      <td>0</td>\n      <td>0</td>\n      <td>0</td>\n      <td>0</td>\n      <td>0</td>\n      <td>0</td>\n      <td>0</td>\n      <td>0</td>\n      <td>0</td>\n      <td>0</td>\n      <td>0</td>\n      <td>0</td>\n      <td>0</td>\n      <td>0</td>\n      <td>0</td>\n      <td>0</td>\n      <td>0</td>\n      <td>0</td>\n      <td>0</td>\n      <td>0</td>\n      <td>0</td>\n      <td>0</td>\n      <td>0</td>\n      <td>0</td>\n      <td>...</td>\n      <td>0</td>\n      <td>0</td>\n      <td>0</td>\n      <td>0</td>\n      <td>0</td>\n      <td>0</td>\n      <td>0</td>\n      <td>0</td>\n      <td>0</td>\n      <td>0</td>\n      <td>0</td>\n      <td>0</td>\n      <td>0</td>\n      <td>0</td>\n      <td>0</td>\n      <td>0</td>\n      <td>0</td>\n      <td>0</td>\n      <td>0</td>\n      <td>0</td>\n      <td>0</td>\n      <td>0</td>\n      <td>0</td>\n      <td>0</td>\n      <td>0</td>\n      <td>0</td>\n      <td>0</td>\n      <td>0</td>\n      <td>0</td>\n      <td>0</td>\n      <td>0</td>\n      <td>0</td>\n      <td>0</td>\n      <td>0</td>\n      <td>0</td>\n      <td>0</td>\n      <td>0</td>\n      <td>0</td>\n      <td>0</td>\n      <td>0</td>\n    </tr>\n    <tr>\n      <th>1</th>\n      <td>0</td>\n      <td>0</td>\n      <td>0</td>\n      <td>0</td>\n      <td>0</td>\n      <td>0</td>\n      <td>0</td>\n      <td>0</td>\n      <td>0</td>\n      <td>0</td>\n      <td>0</td>\n      <td>0</td>\n      <td>0</td>\n      <td>0</td>\n      <td>0</td>\n      <td>0</td>\n      <td>0</td>\n      <td>0</td>\n      <td>0</td>\n      <td>0</td>\n      <td>0</td>\n      <td>0</td>\n      <td>0</td>\n      <td>0</td>\n      <td>0</td>\n      <td>0</td>\n      <td>0</td>\n      <td>0</td>\n      <td>0</td>\n      <td>0</td>\n      <td>0</td>\n      <td>0</td>\n      <td>0</td>\n      <td>0</td>\n      <td>0</td>\n      <td>0</td>\n      <td>0</td>\n      <td>0</td>\n      <td>0</td>\n      <td>0</td>\n      <td>...</td>\n      <td>0</td>\n      <td>0</td>\n      <td>0</td>\n      <td>0</td>\n      <td>0</td>\n      <td>0</td>\n      <td>0</td>\n      <td>0</td>\n      <td>0</td>\n      <td>0</td>\n      <td>0</td>\n      <td>0</td>\n      <td>0</td>\n      <td>0</td>\n      <td>0</td>\n      <td>0</td>\n      <td>0</td>\n      <td>0</td>\n      <td>0</td>\n      <td>0</td>\n      <td>0</td>\n      <td>0</td>\n      <td>0</td>\n      <td>0</td>\n      <td>0</td>\n      <td>0</td>\n      <td>0</td>\n      <td>0</td>\n      <td>0</td>\n      <td>0</td>\n      <td>0</td>\n      <td>0</td>\n      <td>0</td>\n      <td>0</td>\n      <td>0</td>\n      <td>0</td>\n      <td>0</td>\n      <td>0</td>\n      <td>0</td>\n      <td>0</td>\n    </tr>\n    <tr>\n      <th>2</th>\n      <td>1</td>\n      <td>0</td>\n      <td>0</td>\n      <td>0</td>\n      <td>0</td>\n      <td>0</td>\n      <td>0</td>\n      <td>0</td>\n      <td>0</td>\n      <td>0</td>\n      <td>0</td>\n      <td>0</td>\n      <td>0</td>\n      <td>0</td>\n      <td>0</td>\n      <td>0</td>\n      <td>0</td>\n      <td>0</td>\n      <td>0</td>\n      <td>0</td>\n      <td>0</td>\n      <td>0</td>\n      <td>0</td>\n      <td>0</td>\n      <td>0</td>\n      <td>0</td>\n      <td>0</td>\n      <td>0</td>\n      <td>0</td>\n      <td>0</td>\n      <td>0</td>\n      <td>0</td>\n      <td>0</td>\n      <td>0</td>\n      <td>0</td>\n      <td>0</td>\n      <td>0</td>\n      <td>0</td>\n      <td>0</td>\n      <td>0</td>\n      <td>...</td>\n      <td>0</td>\n      <td>0</td>\n      <td>0</td>\n      <td>0</td>\n      <td>0</td>\n      <td>0</td>\n      <td>0</td>\n      <td>0</td>\n      <td>0</td>\n      <td>0</td>\n      <td>0</td>\n      <td>0</td>\n      <td>0</td>\n      <td>0</td>\n      <td>0</td>\n      <td>0</td>\n      <td>0</td>\n      <td>0</td>\n      <td>0</td>\n      <td>0</td>\n      <td>0</td>\n      <td>0</td>\n      <td>0</td>\n      <td>0</td>\n      <td>0</td>\n      <td>0</td>\n      <td>0</td>\n      <td>0</td>\n      <td>0</td>\n      <td>0</td>\n      <td>0</td>\n      <td>0</td>\n      <td>0</td>\n      <td>0</td>\n      <td>0</td>\n      <td>0</td>\n      <td>0</td>\n      <td>0</td>\n      <td>0</td>\n      <td>0</td>\n    </tr>\n    <tr>\n      <th>3</th>\n      <td>4</td>\n      <td>0</td>\n      <td>0</td>\n      <td>0</td>\n      <td>0</td>\n      <td>0</td>\n      <td>0</td>\n      <td>0</td>\n      <td>0</td>\n      <td>0</td>\n      <td>0</td>\n      <td>0</td>\n      <td>0</td>\n      <td>0</td>\n      <td>0</td>\n      <td>0</td>\n      <td>0</td>\n      <td>0</td>\n      <td>0</td>\n      <td>0</td>\n      <td>0</td>\n      <td>0</td>\n      <td>0</td>\n      <td>0</td>\n      <td>0</td>\n      <td>0</td>\n      <td>0</td>\n      <td>0</td>\n      <td>0</td>\n      <td>0</td>\n      <td>0</td>\n      <td>0</td>\n      <td>0</td>\n      <td>0</td>\n      <td>0</td>\n      <td>0</td>\n      <td>0</td>\n      <td>0</td>\n      <td>0</td>\n      <td>0</td>\n      <td>...</td>\n      <td>0</td>\n      <td>0</td>\n      <td>0</td>\n      <td>0</td>\n      <td>0</td>\n      <td>0</td>\n      <td>0</td>\n      <td>0</td>\n      <td>0</td>\n      <td>0</td>\n      <td>0</td>\n      <td>0</td>\n      <td>0</td>\n      <td>0</td>\n      <td>0</td>\n      <td>0</td>\n      <td>0</td>\n      <td>0</td>\n      <td>0</td>\n      <td>0</td>\n      <td>0</td>\n      <td>0</td>\n      <td>0</td>\n      <td>0</td>\n      <td>0</td>\n      <td>0</td>\n      <td>0</td>\n      <td>0</td>\n      <td>0</td>\n      <td>0</td>\n      <td>0</td>\n      <td>0</td>\n      <td>0</td>\n      <td>0</td>\n      <td>0</td>\n      <td>0</td>\n      <td>0</td>\n      <td>0</td>\n      <td>0</td>\n      <td>0</td>\n    </tr>\n    <tr>\n      <th>4</th>\n      <td>0</td>\n      <td>0</td>\n      <td>0</td>\n      <td>0</td>\n      <td>0</td>\n      <td>0</td>\n      <td>0</td>\n      <td>0</td>\n      <td>0</td>\n      <td>0</td>\n      <td>0</td>\n      <td>0</td>\n      <td>0</td>\n      <td>0</td>\n      <td>0</td>\n      <td>0</td>\n      <td>0</td>\n      <td>0</td>\n      <td>0</td>\n      <td>0</td>\n      <td>0</td>\n      <td>0</td>\n      <td>0</td>\n      <td>0</td>\n      <td>0</td>\n      <td>0</td>\n      <td>0</td>\n      <td>0</td>\n      <td>0</td>\n      <td>0</td>\n      <td>0</td>\n      <td>0</td>\n      <td>0</td>\n      <td>0</td>\n      <td>0</td>\n      <td>0</td>\n      <td>0</td>\n      <td>0</td>\n      <td>0</td>\n      <td>0</td>\n      <td>...</td>\n      <td>0</td>\n      <td>0</td>\n      <td>0</td>\n      <td>0</td>\n      <td>0</td>\n      <td>0</td>\n      <td>0</td>\n      <td>0</td>\n      <td>0</td>\n      <td>0</td>\n      <td>0</td>\n      <td>0</td>\n      <td>0</td>\n      <td>0</td>\n      <td>0</td>\n      <td>0</td>\n      <td>0</td>\n      <td>0</td>\n      <td>0</td>\n      <td>0</td>\n      <td>0</td>\n      <td>0</td>\n      <td>0</td>\n      <td>0</td>\n      <td>0</td>\n      <td>0</td>\n      <td>0</td>\n      <td>0</td>\n      <td>0</td>\n      <td>0</td>\n      <td>0</td>\n      <td>0</td>\n      <td>0</td>\n      <td>0</td>\n      <td>0</td>\n      <td>0</td>\n      <td>0</td>\n      <td>0</td>\n      <td>0</td>\n      <td>0</td>\n    </tr>\n  </tbody>\n</table>\n</div>"
          },
          "metadata": {}
        }
      ]
    },
    {
      "metadata": {
        "trusted": true,
        "_uuid": "510b2a33b85d4446f70722fe2c02f43f5d53a562"
      },
      "cell_type": "code",
      "source": "train.shape",
      "execution_count": 6,
      "outputs": [
        {
          "output_type": "execute_result",
          "execution_count": 6,
          "data": {
            "text/plain": "(42000, 785)"
          },
          "metadata": {}
        }
      ]
    },
    {
      "metadata": {
        "_uuid": "acbb4c08b8641c6b87816faa0d05e63a6c5be82e"
      },
      "cell_type": "markdown",
      "source": "## Preprocessing"
    },
    {
      "metadata": {
        "trusted": true,
        "_uuid": "2b926511035bcd1b4c327706a31235ecd3d9e0d3"
      },
      "cell_type": "code",
      "source": "data_X = train.drop('label', axis=1).values\ndata_Y = train['label'].values",
      "execution_count": 7,
      "outputs": []
    },
    {
      "metadata": {
        "trusted": true,
        "_uuid": "f1425cbf67e046e21473ff5e575c29a090695ceb"
      },
      "cell_type": "code",
      "source": "data_Y = np.eye(10)[data_Y]     #one hot encoding\n\ndata_X = data_X/255.0             #normalization\ndata_X = data_X.reshape(-1, 28, 28, 1)",
      "execution_count": 8,
      "outputs": []
    },
    {
      "metadata": {
        "_uuid": "9c5fdc4607df02b07e26b0a2b3566d3b7edd5517"
      },
      "cell_type": "markdown",
      "source": "The images in the dataset have been given in 28x28 resolution. Since Lenet - 5 Architecture requires 32x32 images, we would convert the given images into 32x32. In order to do so, we would apply extra zero padding on the images."
    },
    {
      "metadata": {
        "trusted": true,
        "_uuid": "f7f3fb37d1c89a31d55fa0db16ec41d123e5e579"
      },
      "cell_type": "code",
      "source": "data_X = np.pad(data_X, ((0, 0), (2, 2), (2, 2), (0, 0)), 'constant')     # pad",
      "execution_count": 9,
      "outputs": []
    },
    {
      "metadata": {
        "trusted": true,
        "_uuid": "ab0411efaf1372bbc977fa02e89898cf956aa33a"
      },
      "cell_type": "code",
      "source": "print('Shape of data_X : ', data_X.shape)\nprint('Shape of data_Y : ', data_Y.shape)",
      "execution_count": 10,
      "outputs": [
        {
          "output_type": "stream",
          "text": "Shape of data_X :  (42000, 32, 32, 1)\nShape of data_Y :  (42000, 10)\n",
          "name": "stdout"
        }
      ]
    },
    {
      "metadata": {
        "trusted": true,
        "_uuid": "b79242d32f3e0af5666eb5acd73f8c0b1691bf8a"
      },
      "cell_type": "code",
      "source": "from sklearn.model_selection import train_test_split\ntrain_x, test_x, train_y, test_y = train_test_split(data_X, data_Y, test_size = 0.33)",
      "execution_count": 11,
      "outputs": []
    },
    {
      "metadata": {
        "trusted": true,
        "_uuid": "930a8d783a8078f53073515158d0e4d186891ea3"
      },
      "cell_type": "code",
      "source": "print('Shape of train_x \\t: ', train_x.shape)\nprint('Shape of train_y \\t: ', train_y.shape)\nprint('Shape of test_x  \\t: ', test_x.shape)\nprint('Shape of test_y  \\t: ', test_y.shape)",
      "execution_count": 12,
      "outputs": [
        {
          "output_type": "stream",
          "text": "Shape of train_x \t:  (28140, 32, 32, 1)\nShape of train_y \t:  (28140, 10)\nShape of test_x  \t:  (13860, 32, 32, 1)\nShape of test_y  \t:  (13860, 10)\n",
          "name": "stdout"
        }
      ]
    },
    {
      "metadata": {
        "_uuid": "68cfedb8c5f7e4e209561a6637d8671fad322404"
      },
      "cell_type": "markdown",
      "source": "## Helper Functions"
    },
    {
      "metadata": {
        "trusted": true,
        "_uuid": "b0fb665b1d4b7a662c62718cc6bf1178db71c93b"
      },
      "cell_type": "code",
      "source": "# Outputs a batch of data\ndef next_batch(batch_size, x, y):\n    \n    idx = np.arange(0, len(x))\n    np.random.shuffle(idx)\n    \n    idx = idx[: batch_size]\n    \n    x = [x[i] for i in idx]\n    y = [y[i] for i in idx]\n    \n    x = np.asarray(x)\n    y = np.asarray(y)\n    return x, y",
      "execution_count": 13,
      "outputs": []
    },
    {
      "metadata": {
        "trusted": true,
        "_uuid": "b5d5c846dd7c4d649bb7237e39e44f04709b64fb"
      },
      "cell_type": "code",
      "source": "# Display 10 random images\ndef display_images(data, title, display_label = True):\n    x, y = data\n    x = x.reshape(-1, 32, 32)\n    y = np.argmax(y, axis=1)\n    fig, axes = plt.subplots(2, 5, figsize=(15, 5))\n    fig.subplots_adjust(hspace = 0.7, wspace = 0.7)\n    fig.suptitle(title, fontsize = 18)\n    for i, ax in enumerate(axes.flat):\n        ax.imshow(x[i], cmap='gray')\n        if display_label:\n            ax.set_xlabel(y[i], fontsize=14)\n        ax.set_xticks([])\n        ax.set_yticks([])\n    plt.show()",
      "execution_count": 14,
      "outputs": []
    },
    {
      "metadata": {
        "_uuid": "325bf39d9f26f30424d3f44702f5df49b2b7a837"
      },
      "cell_type": "markdown",
      "source": "In the original paper tanh activation function was used but in modern times relu activation function provides better results."
    },
    {
      "metadata": {
        "trusted": true,
        "_uuid": "829b1bd251be9c66d03ad50e797d3cbe2717a990"
      },
      "cell_type": "code",
      "source": "# wrapper function for convolution layer\ndef conv2d(x, w, b, strides = 1, padding = 'VALID'):\n    x = tf.nn.conv2d(x, w, strides = [1, strides, strides, 1], padding = padding)\n    x = tf.nn.bias_add(x, b)\n    x = tf.nn.relu(x)\n    return x",
      "execution_count": 15,
      "outputs": []
    },
    {
      "metadata": {
        "trusted": true,
        "_uuid": "054a109e17a35aef6e3c85d6067e23133108c271"
      },
      "cell_type": "code",
      "source": "# wrapper function for pooling layer\ndef maxpool2d(x, k = 2, padding = 'VALID'):\n    x = tf.nn.max_pool(x, ksize = [1, k, k, 1], strides = [1, k, k, 1], padding = padding)\n    return x ",
      "execution_count": 16,
      "outputs": []
    },
    {
      "metadata": {
        "trusted": true,
        "_uuid": "bad2c544d92557775d21ea7638061a170d4a773c"
      },
      "cell_type": "code",
      "source": "# wrapper function for fully connected layer\ndef dense(x, w, b, activation = 'none'):\n    x = tf.matmul(x, w)\n    x = tf.nn.bias_add(x, b)\n    if activation == 'relu':\n        x = tf.nn.relu(x)  \n    return x",
      "execution_count": 17,
      "outputs": []
    },
    {
      "metadata": {
        "_uuid": "a3b06159053032f55f3f4140bcf1af0cd8028d73"
      },
      "cell_type": "markdown",
      "source": "## Visualization"
    },
    {
      "metadata": {
        "_uuid": "feecfb8c8f0d908ba0174a0c5f05ace198a3796a"
      },
      "cell_type": "markdown",
      "source": "Display 10 random images and their labels from the training data"
    },
    {
      "metadata": {
        "trusted": true,
        "_uuid": "c654ccc23d70b27a3e4b27102bf2f9c12d627994"
      },
      "cell_type": "code",
      "source": "display_images(next_batch(10, train_x, train_y), 'Training Images')",
      "execution_count": 18,
      "outputs": [
        {
          "output_type": "display_data",
          "data": {
            "text/plain": "<Figure size 1080x360 with 10 Axes>",
            "image/png": "[encoded data removed]"
          },
          "metadata": {}
        }
      ]
    },
    {
      "metadata": {
        "_uuid": "f704775770add46f8245d424eb2117d7036bd7e0"
      },
      "cell_type": "markdown",
      "source": "## Model"
    },
    {
      "metadata": {
        "trusted": true,
        "_uuid": "a952d39d7f38b6911e322f547e28aed5acc1db63"
      },
      "cell_type": "code",
      "source": "# training hyperparameters\nlearning_rate = 0.001\nepochs = 10000\nbatch_size = 128",
      "execution_count": 19,
      "outputs": []
    },
    {
      "metadata": {
        "trusted": true,
        "_uuid": "2a318944c939f87a2939a3ad41753f24e8d430e1"
      },
      "cell_type": "code",
      "source": "# image dimensions and number of classes\nimage_width = 32\nimage_height = 32\ncolor_channels = 1\nn_classes = 10",
      "execution_count": 20,
      "outputs": []
    },
    {
      "metadata": {
        "trusted": true,
        "_uuid": "400fcae54d5782018a27f8edfcd55a1949fa73ca"
      },
      "cell_type": "code",
      "source": "# placeholders\nX = tf.placeholder(tf.float32, shape = [None, image_width, image_height, color_channels]) \nY = tf.placeholder(tf.float32, shape = [None, n_classes]) ",
      "execution_count": 21,
      "outputs": []
    },
    {
      "metadata": {
        "trusted": true,
        "_uuid": "582ac67910a8fad0704d658e2c18357ac83c21aa"
      },
      "cell_type": "code",
      "source": "# parameters\nweights = { \n    'w1' : tf.Variable(tf.random_normal([5, 5, 1, 6])), \n    'w2' : tf.Variable(tf.random_normal([5, 5, 6, 16])), \n    'w3' : tf.Variable(tf.random_normal([400, 120])),\n    'w4' : tf.Variable(tf.random_normal([120, 84])),\n    'w5' : tf.Variable(tf.random_normal([84, 10])) \n}\n\nbiases = {\n    'b1' : tf.Variable(tf.random_normal([6])),\n    'b2' : tf.Variable(tf.random_normal([16])),\n    'b3' : tf.Variable(tf.random_normal([120])),\n    'b4' : tf.Variable(tf.random_normal([84])),\n    'b5' : tf.Variable(tf.random_normal([10]))\n}",
      "execution_count": 22,
      "outputs": []
    },
    {
      "metadata": {
        "trusted": true,
        "_uuid": "9be47f685d3447f733189ba7d0aa2f750991bda4"
      },
      "cell_type": "code",
      "source": "# the model\ndef lenet(x, weight, bias):\n    \n    # Layer 1 : Convolution : input (32x32x1); output (28x28x6)\n    conv1 = conv2d(x, weight['w1'], bias['b1'])\n    # Layer 2 : Sub sampling : input (28x28x6); outpute (14x14x6)\n    pool1 = maxpool2d(conv1) \n    # Layer 3 : Convolution : input (14x14x6); output (10x10x16)\n    conv2 = conv2d(pool1, weight['w2'], bias['b2'])\n    # Layer 4: Sub sampling : input (10x10x16); output (5x5x16)\n    pool2 = maxpool2d(conv2) \n    # Flatten the 2-d image to a 1-d vector : input (5x5x16); output (400)\n    flat = tf.reshape(pool2, [-1, weights['w3'].get_shape().as_list()[0]])\n    # Layer 5: Fully Connected : input (400); output (120)\n    fc1 = dense(flat, weight['w3'], bias['b3'], 'relu')\n    # Layer 6: Fully Connected : input (120); output (84)\n    fc2 = dense(fc1, weight['w4'], bias['b4'], 'relu')\n    # Layer 7: Fully Connected : input (84); output (10)\n    logits = dense(fc2, weight['w5'], bias['b5'], 'none') \n\n    \n    return logits",
      "execution_count": 23,
      "outputs": []
    },
    {
      "metadata": {
        "trusted": true,
        "_uuid": "bee36e4c4eae3ccc1a874def474d92a6ccc5328d"
      },
      "cell_type": "code",
      "source": "# model output\nlogits = lenet(X, weights, biases)\n# loss function\nloss = tf.reduce_mean(tf.nn.softmax_cross_entropy_with_logits(logits = logits, labels = Y))\n# optimizer\noptimizer = tf.train.AdamOptimizer(learning_rate = learning_rate)\n# minimize loss\ntrain = optimizer.minimize(loss)",
      "execution_count": 24,
      "outputs": []
    },
    {
      "metadata": {
        "trusted": true,
        "_uuid": "ebd82a07828a436457d62bf577a4cc6155c76b7f"
      },
      "cell_type": "code",
      "source": "correct_pred = tf.equal(tf.argmax(logits, 1), tf.argmax(Y, 1))\naccuracy = tf.reduce_mean(tf.cast(correct_pred, tf.float32))",
      "execution_count": 25,
      "outputs": []
    },
    {
      "metadata": {
        "trusted": true,
        "_uuid": "1bf031fcb19d910fccbac2d8e7330d0b02a91963"
      },
      "cell_type": "code",
      "source": "init = tf.global_variables_initializer()",
      "execution_count": 26,
      "outputs": []
    },
    {
      "metadata": {
        "_cell_guid": "79c7e3d0-c299-4dcb-8224-4455121ee9b0",
        "collapsed": true,
        "_uuid": "d629ff2d2480ee46fbb7e2d37f6b5fab8052498a",
        "trusted": false
      },
      "cell_type": "markdown",
      "source": "## Train"
    },
    {
      "metadata": {
        "trusted": true,
        "_uuid": "a3f3a17d46f5fb76de40ffd8d35f2788c0cf2d31"
      },
      "cell_type": "code",
      "source": "with tf.Session() as sess:\n    \n    sess.run(init)\n    \n    cost_hist, acc_hist = [], []\n    \n    for epoch in range(1, epochs + 1):\n        \n        batch_x, batch_y = next_batch(batch_size, train_x, train_y)\n        \n        sess.run(train, feed_dict = { X : batch_x, Y : batch_y})\n    \n        if epoch % 500 == 0:\n            c, acc = sess.run([loss, accuracy], feed_dict = { X : batch_x, Y : batch_y})\n            cost_hist.append(c)\n            acc_hist.append(acc)\n            print('Epoch ' + str(epoch) + ', Cost: ' + str(c) + ', Accuracy: ' + str(acc))\n\n    print('-' * 70)\n    print('\\nOptimization Finished\\n')\n    print('Accuracy on train data \\t: ' + str(sess.run(accuracy, feed_dict = { X : train_x, Y :train_y}) * 100) + ' %')\n    print('Accuracy on test data  \\t: ' + str(sess.run(accuracy, feed_dict = { X : test_x, Y : test_y}) * 100) + ' %')",
      "execution_count": 27,
      "outputs": [
        {
          "output_type": "stream",
          "text": "Epoch 500, Cost: 591.1879, Accuracy: 0.7890625\nEpoch 1000, Cost: 245.45197, Accuracy: 0.84375\nEpoch 1500, Cost: 245.76472, Accuracy: 0.8984375\nEpoch 2000, Cost: 48.187965, Accuracy: 0.9609375\nEpoch 2500, Cost: 65.52466, Accuracy: 0.9453125\nEpoch 3000, Cost: 137.50009, Accuracy: 0.9453125\nEpoch 3500, Cost: 75.09201, Accuracy: 0.9453125\nEpoch 4000, Cost: 34.87108, Accuracy: 0.9609375\nEpoch 4500, Cost: 41.282284, Accuracy: 0.9375\nEpoch 5000, Cost: 19.451199, Accuracy: 0.96875\nEpoch 5500, Cost: 1.6363568, Accuracy: 0.984375\nEpoch 6000, Cost: 21.357763, Accuracy: 0.9765625\nEpoch 6500, Cost: 0.92593765, Accuracy: 0.9921875\nEpoch 7000, Cost: 2.0272079, Accuracy: 0.9921875\nEpoch 7500, Cost: 0.80791473, Accuracy: 0.9921875\nEpoch 8000, Cost: 2.8071299, Accuracy: 0.9921875\nEpoch 8500, Cost: 2.8581676, Accuracy: 0.9921875\nEpoch 9000, Cost: 0.67824364, Accuracy: 0.9921875\nEpoch 9500, Cost: 0.0, Accuracy: 1.0\nEpoch 10000, Cost: 1.3418894, Accuracy: 0.9921875\n----------------------------------------------------------------------\n\nOptimization Finished\n\nAccuracy on train data \t: 99.28571581840515 %\nAccuracy on test data  \t: 94.82684135437012 %\n",
          "name": "stdout"
        }
      ]
    },
    {
      "metadata": {
        "_uuid": "6bd4ec7cb305dd90ab373dd15235e6415880bd2c"
      },
      "cell_type": "markdown",
      "source": "### Change in cost function"
    },
    {
      "metadata": {
        "trusted": true,
        "_uuid": "4a33c3fe1d24edb2f1dde5d3201285fcabbcfc6a"
      },
      "cell_type": "code",
      "source": "eps = list(range(500, epoch+500, 500))\nplt.plot(eps, cost_hist)\nplt.title(\"Change in cost\")\nplt.ylabel('Cost')\nplt.xlabel('Epoch')\nplt.show()",
      "execution_count": 28,
      "outputs": [
        {
          "output_type": "display_data",
          "data": {
            "text/plain": "<Figure size 432x288 with 1 Axes>",
            "image/png": "[encoded data removed]"
          },
          "metadata": {}
        }
      ]
    },
    {
      "metadata": {
        "_uuid": "ea0d866c0495c46eaaa1ca9700aa4076fc253a71"
      },
      "cell_type": "markdown",
      "source": "### Change in accuracy"
    },
    {
      "metadata": {
        "trusted": true,
        "_uuid": "d4933ddad07fcd3bd08d49630180905c9a609a10"
      },
      "cell_type": "code",
      "source": "eps = list(range(500, epoch+500, 500))\nplt.plot(eps, acc_hist)\nplt.title(\"Change in accuracy\")\nplt.ylabel('Accuracy')\nplt.xlabel('Epoch')\nplt.show()",
      "execution_count": 29,
      "outputs": [
        {
          "output_type": "display_data",
          "data": {
            "text/plain": "<Figure size 432x288 with 1 Axes>",
            "image/png": "[encoded data removed]"
          },
          "metadata": {}
        }
      ]
    },
    {
      "metadata": {
        "_uuid": "cd7dac6826704561b51453983dea82a7e74a5ce8"
      },
      "cell_type": "markdown",
      "source": "## Validate"
    },
    {
      "metadata": {
        "trusted": true,
        "_uuid": "dd1799cb847db4c812b55c001b1c3a4474f79cbf"
      },
      "cell_type": "code",
      "source": "# KFold cross validation\nfrom sklearn.model_selection import KFold\n\nkf = KFold(n_splits = 5)\n\ncurrent_fold = 1\n\ntrain_acc_hist = []\ntest_acc_hist = []\n\nfor train_index, test_index in kf.split(data_Y):\n     \n    KFold_X_train = data_X[list(train_index)]\n    KFold_X_test = data_X[test_index]\n    KFold_Y_train = data_Y[train_index]\n    KFold_Y_test = data_Y[test_index]\n\n    # run the graph\n    with tf.Session() as sess:\n    \n        sess.run(init)\n\n        for epoch in range(1, epochs + 1):\n\n            batch_x, batch_y = next_batch(batch_size, KFold_X_train, KFold_Y_train)\n\n            sess.run(train, feed_dict = { X : batch_x, Y : batch_y })\n    \n        train_accuracy = sess.run(accuracy, feed_dict = { X : KFold_X_train, Y :KFold_Y_train }) * 100\n        test_accuracy = sess.run(accuracy, feed_dict = { X : KFold_X_test, Y : KFold_Y_test }) * 100\n        \n        train_acc_hist.append(train_accuracy)\n        test_acc_hist.append(test_accuracy)\n\n        print('\\nFOLD-' + str(current_fold) + '\\n')\n        print('Accuracy on train data \\t:  {0:.2f} %'.format(train_accuracy))\n        print('Accuracy on test data  \\t:  {0:.2f} %'.format(test_accuracy))\n        \n        \n        W = sess.run(weights)\n        B = sess.run(biases)\n    \n\n    current_fold = current_fold +1\n    \ntrain_cross_val_score = np.mean(train_acc_hist)    \ntest_cross_val_score = np.mean(test_acc_hist)\n\nprint('-' * 70)\nprint('\\nOPTIMIZATION FINISHED\\n')\nprint('\\n\\nFINAL TRAIN SET K-FOLD CROSS VALIDATION ACCURACY \\t:  {0:.2f}'.format(train_cross_val_score))\nprint('\\nFINAL TEST SET K-FOLD CROSS VALIDATION ACCURACY    \\t:  {0:.2f}'.format(test_cross_val_score))",
      "execution_count": 30,
      "outputs": [
        {
          "output_type": "stream",
          "text": "\nFOLD-1\n\nAccuracy on train data \t:  99.19 %\nAccuracy on test data  \t:  94.98 %\n\nFOLD-2\n\nAccuracy on train data \t:  99.25 %\nAccuracy on test data  \t:  95.19 %\n\nFOLD-3\n\nAccuracy on train data \t:  98.36 %\nAccuracy on test data  \t:  95.39 %\n\nFOLD-4\n\nAccuracy on train data \t:  99.12 %\nAccuracy on test data  \t:  95.39 %\n\nFOLD-5\n\nAccuracy on train data \t:  98.81 %\nAccuracy on test data  \t:  95.61 %\n----------------------------------------------------------------------\n\nOPTIMIZATION FINISHED\n\n\n\nFINAL TRAIN SET K-FOLD CROSS VALIDATION ACCURACY \t:  98.94\n\nFINAL TEST SET K-FOLD CROSS VALIDATION ACCURACY    \t:  95.31\n",
          "name": "stdout"
        }
      ]
    },
    {
      "metadata": {
        "_uuid": "d48f09e52739ae083fb12df5888dc29926081b17"
      },
      "cell_type": "markdown",
      "source": "## Save the parameters of the model"
    },
    {
      "metadata": {
        "trusted": true,
        "_uuid": "c53c49eb36e35f4b93a1c5fb05dc4a2d15e07df5"
      },
      "cell_type": "code",
      "source": "for key in W.keys():\n    np.save(key, W[key])\nfor key in B.keys():\n    np.save(key, B[key])",
      "execution_count": 31,
      "outputs": []
    },
    {
      "metadata": {
        "_uuid": "2ea1b64d5132e838901789447102104951187398"
      },
      "cell_type": "markdown",
      "source": "## Predict"
    },
    {
      "metadata": {
        "trusted": true,
        "_uuid": "468d660edd0f608deacc1f6b21a19fb685ec18ca"
      },
      "cell_type": "code",
      "source": "# load the prediction dataset\ntest = pd.read_csv('../input/test.csv')\n\n# preprocess the prediction dataset \ndata_X = test.values\ndata_X = data_X.reshape(-1, 28, 28, 1)     # reshape\ndata_X = np.pad(data_X, ((0, 0), (2, 2), (2, 2), (0, 0)), 'constant')     # pad\ndata_X = data_X/255.0     # normalize\n",
      "execution_count": 32,
      "outputs": []
    },
    {
      "metadata": {
        "trusted": true,
        "_uuid": "26ab85d5f92a8f49ce1067d6c81fa7fa73fa1ef8"
      },
      "cell_type": "code",
      "source": "# set the parameters to the learned parameters\nfor key in weights.keys():\n    weights[key] = tf.Variable(W[key])\nfor key in biases.keys():\n    biases[key] = tf.Variable(B[key])",
      "execution_count": 33,
      "outputs": []
    },
    {
      "metadata": {
        "trusted": true,
        "_uuid": "cba0bd06d47bbc50dc521765a51a08a91c5a7261"
      },
      "cell_type": "code",
      "source": "logits = lenet(X, weights, biases)",
      "execution_count": 34,
      "outputs": []
    },
    {
      "metadata": {
        "trusted": true,
        "_uuid": "c4ac8599fbc9aa9f2e7eb82e0580ce410f683f06"
      },
      "cell_type": "code",
      "source": "with tf.Session() as sess:\n    \n    for key in weights.keys():\n        sess.run(weights[key].initializer)\n    for key in biases.keys():\n        sess.run(biases[key].initializer)\n    \n    output = sess.run(logits, feed_dict= {X : data_X}) ",
      "execution_count": 35,
      "outputs": []
    },
    {
      "metadata": {
        "_uuid": "94252db81ebe69315e9d9f6a6357f466e1a1e2d0"
      },
      "cell_type": "markdown",
      "source": "## Visualization"
    },
    {
      "metadata": {
        "_uuid": "910b963c7a01806958d9068e34ce5bf335495c4f"
      },
      "cell_type": "markdown",
      "source": "Display the images and their labels as predicted by the LeNet-5 model"
    },
    {
      "metadata": {
        "trusted": true,
        "_uuid": "61e117f5f9237ea5a85848cc1e8f4582dd24522f"
      },
      "cell_type": "code",
      "source": "display_images(next_batch(10, data_X, output), 'Prediction Images')",
      "execution_count": 36,
      "outputs": [
        {
          "output_type": "display_data",
          "data": {
            "text/plain": "<Figure size 1080x360 with 10 Axes>",
            "image/png": "[encoded data removed]"
          },
          "metadata": {}
        }
      ]
    },
    {
      "metadata": {
        "trusted": true,
        "_uuid": "557eb1a2b8bdc8a9be7131bb042387d4386b5ee0"
      },
      "cell_type": "code",
      "source": "predictions = np.argmax(output, axis=1)",
      "execution_count": 37,
      "outputs": []
    },
    {
      "metadata": {
        "_uuid": "905f42e2c19bdb01d0caff3ea72c23cd9fa0bf72"
      },
      "cell_type": "markdown",
      "source": "## Kaggle Submission"
    },
    {
      "metadata": {
        "_uuid": "306d93f4f3a683a205dfb2103b3e95c37247214d"
      },
      "cell_type": "markdown",
      "source": "Code to make the submission file for kaggle"
    },
    {
      "metadata": {
        "trusted": true,
        "_uuid": "dfb230f715529d23b62cc4960c3a06f7a6226d52"
      },
      "cell_type": "code",
      "source": "index = test.index +1 \n\nImageId = list(index)\nLabel = list(predictions)\n\ndf = pd.DataFrame([ImageId ,Label])\ndf = df.T\ndf.columns = [['ImageId', 'Label']]\n\ndf.to_csv('submission.csv', index=False)",
      "execution_count": 38,
      "outputs": []
    }
  ],
  "metadata": {
    "kernelspec": {
      "display_name": "Python 3",
      "language": "python",
      "name": "python3"
    },
    "language_info": {
      "name": "python",
      "version": "3.6.6",
      "mimetype": "text/x-python",
      "codemirror_mode": {
        "name": "ipython",
        "version": 3
      },
      "pygments_lexer": "ipython3",
      "nbconvert_exporter": "python",
      "file_extension": ".py"
    }
  },
  "nbformat": 4,
  "nbformat_minor": 1
}